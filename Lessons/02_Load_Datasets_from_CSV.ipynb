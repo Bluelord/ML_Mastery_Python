{
  "nbformat": 4,
  "nbformat_minor": 0,
  "metadata": {
    "colab": {
      "name": "02_Load Datasets from CSV.ipynb",
      "provenance": [],
      "authorship_tag": "ABX9TyO2QANSCPkcQ73OP46+GGzd",
      "include_colab_link": true
    },
    "kernelspec": {
      "name": "python3",
      "display_name": "Python 3"
    },
    "language_info": {
      "name": "python"
    }
  },
  "cells": [
    {
      "cell_type": "markdown",
      "metadata": {
        "id": "view-in-github",
        "colab_type": "text"
      },
      "source": [
        "<a href=\"https://colab.research.google.com/github/Bluelord/ML_Mastery_Python/blob/main/02_Load_Datasets_from_CSV.ipynb\" target=\"_parent\"><img src=\"https://colab.research.google.com/assets/colab-badge.svg\" alt=\"Open In Colab\"/></a>"
      ]
    },
    {
      "cell_type": "markdown",
      "metadata": {
        "id": "k0eZxLgQG5yy"
      },
      "source": [
        "# Loading of ML Data**  \n",
        "---"
      ]
    },
    {
      "cell_type": "code",
      "metadata": {
        "id": "zibftY1odgCg",
        "colab": {
          "base_uri": "https://localhost:8080/"
        },
        "outputId": "0bd36a44-94ef-43ea-9172-503816027d45"
      },
      "source": [
        "from google.colab import drive\n",
        "drive.mount('/content/drive')"
      ],
      "execution_count": 1,
      "outputs": [
        {
          "output_type": "stream",
          "text": [
            "Mounted at /content/drive\n"
          ],
          "name": "stdout"
        }
      ]
    },
    {
      "cell_type": "markdown",
      "metadata": {
        "id": "VIn04oJqd0kI"
      },
      "source": [
        "## Using Stander Library"
      ]
    },
    {
      "cell_type": "code",
      "metadata": {
        "id": "3tXlonLPFPzj",
        "colab": {
          "base_uri": "https://localhost:8080/"
        },
        "outputId": "d4b71d80-5aca-4f1c-f4d3-b5648e043e8d"
      },
      "source": [
        "# Here we have pima Indian Dataset\n",
        "# loading csv using python std library\n",
        "import csv\n",
        "import numpy as np\n",
        "filename = \"/content/drive/MyDrive/Colab Notebooks/ML Mastery python/Dataset/pima-indians-diabetes.csv\" # insert any 2D dataset\n",
        "raw_data = open(filename, 'rt')\n",
        "reader = csv.reader(raw_data, delimiter=',', quoting = csv.QUOTE_NONE)\n",
        "x = list(reader)\n",
        "data = np.array(x)\n",
        "print(data.shape)"
      ],
      "execution_count": 2,
      "outputs": [
        {
          "output_type": "stream",
          "text": [
            "(768, 9)\n"
          ],
          "name": "stdout"
        }
      ]
    },
    {
      "cell_type": "markdown",
      "metadata": {
        "id": "OZpxp6UxeGc_"
      },
      "source": [
        "## Using Numpy\n"
      ]
    },
    {
      "cell_type": "code",
      "metadata": {
        "id": "DZhWr5bhJ80y",
        "colab": {
          "base_uri": "https://localhost:8080/"
        },
        "outputId": "da27f896-a24d-40e4-92e5-63fd157f9ac2"
      },
      "source": [
        "from numpy import loadtxt\n",
        "filename = '/content/drive/MyDrive/Colab Notebooks/ML Mastery python/Dataset/pima-indians-diabetes.csv' # insert any 2D dataset\n",
        "raw_data = open(filename, 'rt')\n",
        "data = loadtxt(raw_data, delimiter=\",\")\n",
        "print(data.shape)"
      ],
      "execution_count": 4,
      "outputs": [
        {
          "output_type": "stream",
          "text": [
            "(768, 9)\n"
          ],
          "name": "stdout"
        }
      ]
    },
    {
      "cell_type": "code",
      "metadata": {
        "colab": {
          "base_uri": "https://localhost:8080/"
        },
        "id": "I4Mm2XKitQZw",
        "outputId": "fc37a3b7-2e4f-439f-9e85-aea7767d8f86"
      },
      "source": [
        "# Load CSV from URL using NumPy\n",
        "from numpy import loadtxt\n",
        "from urllib.request import urlopen\n",
        "url = 'https://goo.gl/bDdBiA'\n",
        "raw_data = urlopen(url)\n",
        "dataset = loadtxt(raw_data, delimiter=\",\")\n",
        "print(dataset.shape)"
      ],
      "execution_count": 5,
      "outputs": [
        {
          "output_type": "stream",
          "text": [
            "(768, 9)\n"
          ],
          "name": "stdout"
        }
      ]
    },
    {
      "cell_type": "markdown",
      "metadata": {
        "id": "9IqXjRM8f9Kp"
      },
      "source": [
        "> **Loading CSV with Pandas**\n"
      ]
    },
    {
      "cell_type": "code",
      "metadata": {
        "id": "NBi_EBunf6Su",
        "colab": {
          "base_uri": "https://localhost:8080/"
        },
        "outputId": "835e6c17-cf27-4fdb-fe40-2749c8b345c5"
      },
      "source": [
        "# Load CSV usinf pandas\n",
        "from pandas import read_csv\n",
        "filename = \"/content/drive/MyDrive/Colab Notebooks/ML Mastery python/Dataset/pima-indians-diabetes.csv\" # insert any 2D dataset\n",
        "names = ['preg', 'plas','pres', 'skin', 'test', 'mass', 'pedi','age','class']\n",
        "data = read_csv(filename, names = names)\n",
        "print(data)\n",
        "print(data.shape)"
      ],
      "execution_count": 7,
      "outputs": [
        {
          "output_type": "stream",
          "text": [
            "     preg  plas  pres  skin  test  mass   pedi  age  class\n",
            "0       6   148    72    35     0  33.6  0.627   50      1\n",
            "1       1    85    66    29     0  26.6  0.351   31      0\n",
            "2       8   183    64     0     0  23.3  0.672   32      1\n",
            "3       1    89    66    23    94  28.1  0.167   21      0\n",
            "4       0   137    40    35   168  43.1  2.288   33      1\n",
            "..    ...   ...   ...   ...   ...   ...    ...  ...    ...\n",
            "763    10   101    76    48   180  32.9  0.171   63      0\n",
            "764     2   122    70    27     0  36.8  0.340   27      0\n",
            "765     5   121    72    23   112  26.2  0.245   30      0\n",
            "766     1   126    60     0     0  30.1  0.349   47      1\n",
            "767     1    93    70    31     0  30.4  0.315   23      0\n",
            "\n",
            "[768 rows x 9 columns]\n",
            "(768, 9)\n"
          ],
          "name": "stdout"
        }
      ]
    },
    {
      "cell_type": "code",
      "metadata": {
        "colab": {
          "base_uri": "https://localhost:8080/"
        },
        "id": "GoBxuEbHtUPo",
        "outputId": "0f39ab62-7f2f-4acf-bdfa-9b1a539fe9d2"
      },
      "source": [
        "# Load CSV using Pandas from URL\n",
        "from pandas import read_csv\n",
        "url = 'https://goo.gl/bDdBiA'\n",
        "names = ['preg', 'plas', 'pres', 'skin', 'test', 'mass', 'pedi', 'age', 'class']\n",
        "data = read_csv(url, names=names)\n",
        "print(data.shape)"
      ],
      "execution_count": 8,
      "outputs": [
        {
          "output_type": "stream",
          "text": [
            "(768, 9)\n"
          ],
          "name": "stdout"
        }
      ]
    }
  ]
}
