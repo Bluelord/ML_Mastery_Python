{
  "nbformat": 4,
  "nbformat_minor": 0,
  "metadata": {
    "colab": {
      "name": "11_Model Selection.ipynb",
      "provenance": [],
      "authorship_tag": "ABX9TyP9d5thBIuqYgPv/cyjl4aG",
      "include_colab_link": true
    },
    "kernelspec": {
      "name": "python3",
      "display_name": "Python 3"
    },
    "language_info": {
      "name": "python"
    }
  },
  "cells": [
    {
      "cell_type": "markdown",
      "metadata": {
        "id": "view-in-github",
        "colab_type": "text"
      },
      "source": [
        "<a href=\"https://colab.research.google.com/github/Bluelord/ML_Mastery_Python/blob/main/11_Model_Selection.ipynb\" target=\"_parent\"><img src=\"https://colab.research.google.com/assets/colab-badge.svg\" alt=\"Open In Colab\"/></a>"
      ]
    },
    {
      "cell_type": "markdown",
      "metadata": {
        "id": "45uQnTCnty4f"
      },
      "source": [
        "# Comparing ML Algorithms**\n",
        "\n",
        "---"
      ]
    },
    {
      "cell_type": "code",
      "metadata": {
        "colab": {
          "base_uri": "https://localhost:8080/"
        },
        "id": "w1QNbhX920us",
        "outputId": "46e6a80c-3849-47b1-b99c-5a0d2de189fe"
      },
      "source": [
        "from google.colab import drive\n",
        "drive.mount('/content/drive')"
      ],
      "execution_count": 1,
      "outputs": [
        {
          "output_type": "stream",
          "text": [
            "Mounted at /content/drive\n"
          ],
          "name": "stdout"
        }
      ]
    },
    {
      "cell_type": "markdown",
      "metadata": {
        "id": "Jg3ykyroZxMx"
      },
      "source": [
        "WE often end up with multiple models for our dataset, each have different performance characteristics, using the resamplaning methods like cross-valdaation we can estimate how accurate our model is for unseen data. We campare our model by visulizing the model accuracy with its average accuracy, varience and other statistical values of its accuracy."
      ]
    },
    {
      "cell_type": "markdown",
      "metadata": {
        "id": "3U6iWAprYmzu"
      },
      "source": [
        "## Compare ML Algorithms Consistently\n",
        "\n"
      ]
    },
    {
      "cell_type": "code",
      "metadata": {
        "id": "knACr6JJuS0F",
        "colab": {
          "base_uri": "https://localhost:8080/"
        },
        "outputId": "3cb44af4-4f6f-4bca-fe07-5f8e60def915"
      },
      "source": [
        "# Camparing Algorithms \n",
        "from pandas import read_csv\n",
        "from matplotlib import pyplot as plt\n",
        "from sklearn.model_selection import KFold\n",
        "from sklearn.model_selection import cross_val_score\n",
        "from sklearn.linear_model import LogisticRegression\n",
        "from sklearn.tree import DecisionTreeClassifier\n",
        "from sklearn.neighbors import KNeighborsClassifier\n",
        "from sklearn.discriminant_analysis import LinearDiscriminantAnalysis\n",
        "from sklearn.naive_bayes import GaussianNB\n",
        "from sklearn.svm import SVC\n",
        "# Load Data\n",
        "filename = \"/content/drive/MyDrive/Colab Notebooks/ML Mastery python/Dataset/pima-indians-diabetes.csv\"\n",
        "names = ['preg', 'plas','pres','skin','test','mass','pedi','age','class']\n",
        "dataframe = read_csv(filename, names=names)\n",
        "array = dataframe.values\n",
        "# separate array into input & output \n",
        "X = array[:,0:8]\n",
        "Y = array[:,8]\n",
        "# Prepare Models \n",
        "models = []\n",
        "models.append(('LR', LogisticRegression(solver = 'liblinear')))\n",
        "models.append(('LDA', LinearDiscriminantAnalysis()))\n",
        "models.append(('KNN', KNeighborsClassifier()))\n",
        "models.append(('CART', DecisionTreeClassifier()))\n",
        "models.append(('NB', GaussianNB()))\n",
        "models.append(('SVM', SVC(gamma='auto')))\n",
        "# evaluate each model\n",
        "results = []\n",
        "names = []\n",
        "scoring = 'accuracy'\n",
        "for name, model in models:\n",
        "  kfold = KFold(n_splits=10)\n",
        "  cv_results = cross_val_score(model, X, Y, cv=kfold, scoring=scoring)\n",
        "  results.append(cv_results)\n",
        "  names.append(name)\n",
        "  msg = \"% s: %f (%f)\" % (name, cv_results.mean(), cv_results.std())\n",
        "  print(msg)"
      ],
      "execution_count": 6,
      "outputs": [
        {
          "output_type": "stream",
          "text": [
            "LR: 0.769515 (0.048411)\n",
            "LDA: 0.773462 (0.051592)\n",
            "KNN: 0.726555 (0.061821)\n",
            "CART: 0.699094 (0.060631)\n",
            "NB: 0.755178 (0.042766)\n",
            "SVM: 0.651025 (0.072141)\n"
          ],
          "name": "stdout"
        }
      ]
    },
    {
      "cell_type": "code",
      "metadata": {
        "colab": {
          "base_uri": "https://localhost:8080/",
          "height": 294
        },
        "id": "57qnz7HyBJLT",
        "outputId": "2a39dae7-65de-4748-cbaa-745afbb5dd70"
      },
      "source": [
        "# Boxplot for algorithm camparision\n",
        "fig = plt.figure()\n",
        "fig.suptitle('algorithm camparision')\n",
        "ax = fig.add_subplot(111)\n",
        "plt.boxplot(results)\n",
        "ax.set_xticklabels(names)\n",
        "plt.show()"
      ],
      "execution_count": 7,
      "outputs": [
        {
          "output_type": "display_data",
          "data": {
            "image/png": "[encoded data removed]",
            "text/plain": [
              "<Figure size 432x288 with 1 Axes>"
            ]
          },
          "metadata": {
            "tags": [],
            "needs_background": "light"
          }
        }
      ]
    }
  ]
}
