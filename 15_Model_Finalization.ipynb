{
  "nbformat": 4,
  "nbformat_minor": 0,
  "metadata": {
    "colab": {
      "name": "15_Model Finalization.ipynb",
      "provenance": [],
      "authorship_tag": "ABX9TyMGwypwnmXwOG/amjQ7mUSx",
      "include_colab_link": true
    },
    "kernelspec": {
      "name": "python3",
      "display_name": "Python 3"
    },
    "language_info": {
      "name": "python"
    }
  },
  "cells": [
    {
      "cell_type": "markdown",
      "metadata": {
        "id": "view-in-github",
        "colab_type": "text"
      },
      "source": [
        "<a href=\"https://colab.research.google.com/github/Bluelord/ML_Mastery_Python/blob/main/15_Model_Finalization.ipynb\" target=\"_parent\"><img src=\"https://colab.research.google.com/assets/colab-badge.svg\" alt=\"Open In Colab\"/></a>"
      ]
    },
    {
      "cell_type": "markdown",
      "metadata": {
        "id": "eshkupK4u0O9"
      },
      "source": [
        "# Finalize your Model\n",
        "---\n",
        "\n"
      ]
    },
    {
      "cell_type": "code",
      "metadata": {
        "id": "I4jDkPW74Gvy",
        "colab": {
          "base_uri": "https://localhost:8080/"
        },
        "outputId": "937f255a-02ca-4a0e-eac0-a385443cd64d"
      },
      "source": [
        "from google.colab import drive\n",
        "drive.mount('/content/drive')"
      ],
      "execution_count": 1,
      "outputs": [
        {
          "output_type": "stream",
          "text": [
            "Mounted at /content/drive\n"
          ],
          "name": "stdout"
        }
      ]
    },
    {
      "cell_type": "markdown",
      "metadata": {
        "id": "SAxzA-pYsiyC"
      },
      "source": [
        "## Finalize Your Model with pickle\n",
        "\n",
        "Pickle is the standard way of serializing objects in Python. You can use the pickle1 operation to serialize your machine learning algorithms and save the serialized format to a file. Later you can load this file to deserialize your model and use it to make new predictions."
      ]
    },
    {
      "cell_type": "code",
      "metadata": {
        "id": "lS371p7Cu5IU"
      },
      "source": [
        "# Save Model Using Pickle\n",
        "from pandas import read_csv\n",
        "from sklearn.model_selection import train_test_split\n",
        "from sklearn.linear_model import LogisticRegression\n",
        "from pickle import dump\n",
        "from pickle import load\n",
        "filename = \"/content/drive/MyDrive/Colab Notebooks/ML Mastery python/Dataset/pima-indians-diabetes.csv\"\n",
        "names = ['preg', 'plas', 'pres', 'skin', 'test', 'mass', 'pedi', 'age', 'class']\n",
        "dataframe = read_csv(filename, names=names)\n",
        "array = dataframe.values\n",
        "X = array[:,0:8]\n",
        "Y = array[:,8]\n",
        "X_train, X_test, Y_train, Y_test = train_test_split(X, Y, test_size=0.33, random_state=7)\n",
        "# Fit the model on 33%\n",
        "model = LogisticRegression()\n",
        "model.fit(X_train, Y_train)\n",
        "# save the model to disk\n",
        "filename = 'finalized_model.sav'\n",
        "dump(model, open(filename, 'wb'))\n",
        "# some time later...\n",
        "# load the model from disk\n",
        "loaded_model = load(open(filename, 'rb'))\n",
        "result = loaded_model.score(X_test, Y_test)\n",
        "print(result)"
      ],
      "execution_count": null,
      "outputs": []
    },
    {
      "cell_type": "markdown",
      "metadata": {
        "id": "4mtSrT6Fsj-S"
      },
      "source": [
        "## Finalize Your Model with Joblib\n",
        "\n",
        "The Joblib library is part of the SciPy ecosystem and provides utilities for pipelining Python jobs. It provides utilities for saving and loading Python objects that make use of NumPy datastructures, e\u000eciently3. This can be useful  for some machine learning algorithms that require a lot of parameters or store the entire dataset (e.g. k-Nearest Neighbors)."
      ]
    },
    {
      "cell_type": "code",
      "metadata": {
        "id": "EQidlTuJu5d3",
        "colab": {
          "base_uri": "https://localhost:8080/"
        },
        "outputId": "36d91036-62a9-4d66-8d8d-75cb2fa46c97"
      },
      "source": [
        "# Save Model Using joblib\n",
        "from pandas import read_csv\n",
        "from sklearn.model_selection import train_test_split\n",
        "from sklearn.linear_model import LogisticRegression\n",
        "from sklearn.externals.joblib import dump\n",
        "from sklearn.externals.joblib import load\n",
        "filename = \"/content/drive/MyDrive/Colab Notebooks/ML Mastery python/Dataset/pima-indians-diabetes.csv\"\n",
        "names = ['preg', 'plas', 'pres', 'skin', 'test', 'mass', 'pedi', 'age', 'class']\n",
        "dataframe = read_csv(filename, names=names)\n",
        "array = dataframe.values\n",
        "X = array[:,0:8]\n",
        "Y = array[:,8]\n",
        "X_train, X_test, Y_train, Y_test = train_test_split(X, Y, test_size=0.33, random_state=7)\n",
        "# Fit the model on 33%\n",
        "model = LogisticRegression(max_iter=10000)\n",
        "model.fit(X_train, Y_train)\n",
        "# save the model to disk\n",
        "filename = 'finalized_model.sav'\n",
        "dump(model, filename)\n",
        "# some time later...\n",
        "# load the model from disk\n",
        "loaded_model = load(filename)\n",
        "result = loaded_model.score(X_test, Y_test)\n",
        "print(result)"
      ],
      "execution_count": 3,
      "outputs": [
        {
          "output_type": "stream",
          "text": [
            "0.7874015748031497\n"
          ],
          "name": "stdout"
        }
      ]
    }
  ]
}