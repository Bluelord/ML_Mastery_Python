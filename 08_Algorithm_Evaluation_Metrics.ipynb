{
  "nbformat": 4,
  "nbformat_minor": 0,
  "metadata": {
    "colab": {
      "name": "08_Algorithm Evaluation Metrics.ipynb",
      "provenance": [],
      "collapsed_sections": [],
      "authorship_tag": "ABX9TyP2GBPp3Z2xzTlIAfmKiuJy",
      "include_colab_link": true
    },
    "kernelspec": {
      "name": "python3",
      "display_name": "Python 3"
    },
    "language_info": {
      "name": "python"
    }
  },
  "cells": [
    {
      "cell_type": "markdown",
      "metadata": {
        "id": "view-in-github",
        "colab_type": "text"
      },
      "source": [
        "<a href=\"https://colab.research.google.com/github/Bluelord/ML_Mastery_Python/blob/main/08_Algorithm_Evaluation_Metrics.ipynb\" target=\"_parent\"><img src=\"https://colab.research.google.com/assets/colab-badge.svg\" alt=\"Open In Colab\"/></a>"
      ]
    },
    {
      "cell_type": "markdown",
      "metadata": {
        "id": "Q72eP95wY8Uo"
      },
      "source": [
        "# ML Algorithm Performance Matrics**\n",
        "\n",
        "---"
      ]
    },
    {
      "cell_type": "code",
      "metadata": {
        "colab": {
          "base_uri": "https://localhost:8080/"
        },
        "id": "A8Nvqlhs2bML",
        "outputId": "2ec99e6a-7a65-4891-f504-18c326d3ee59"
      },
      "source": [
        "from google.colab import drive\n",
        "drive.mount('/content/drive')"
      ],
      "execution_count": 1,
      "outputs": [
        {
          "output_type": "stream",
          "text": [
            "Mounted at /content/drive\n"
          ],
          "name": "stdout"
        }
      ]
    },
    {
      "cell_type": "markdown",
      "metadata": {
        "id": "fhIE9wwOZGJB"
      },
      "source": [
        "## Classification Metric\n"
      ]
    },
    {
      "cell_type": "markdown",
      "metadata": {
        "id": "y4t94b04c6-Y"
      },
      "source": [
        "### Classification Accuracy**\n",
        "\n",
        "It is the most common evalution matrics which shows the number of correct presictions made as a ratio of all predictions made. **This is only valid for the equal number of observation in each class**.\n"
      ]
    },
    {
      "cell_type": "code",
      "metadata": {
        "id": "nS2yOgIFY6yQ",
        "colab": {
          "base_uri": "https://localhost:8080/"
        },
        "outputId": "0ef69715-8f08-4f32-a723-08b5e6ac0590"
      },
      "source": [
        "# Evaluation using a train and a test set\n",
        "from pandas import read_csv\n",
        "from sklearn.model_selection import KFold # This testing is used to demonstrate each metric (You can use other resamling methods)\n",
        "from sklearn.model_selection import cross_val_score\n",
        "from sklearn.linear_model import LogisticRegression\n",
        "# Load Data\n",
        "filename = \"/content/drive/MyDrive/Colab Notebooks/ML Mastery python/Dataset/pima-indians-diabetes.csv\"\n",
        "names = ['preg', 'plas','pres','skin','test','mass','pedi','age','class']\n",
        "dataframe = read_csv(filename, names=names)\n",
        "array = dataframe.values\n",
        "# separate array into input & output \n",
        "X = array[:,0:8]\n",
        "Y = array[:,8]\n",
        "kfold = KFold(n_splits=10)\n",
        "model = LogisticRegression(solver='liblinear')\n",
        "scoring = 'accuracy' # this string is used in cross-validation for scoring \n",
        "results = cross_val_score(model, X, Y, cv=kfold, scoring=scoring)\n",
        "print(\"Accuracy: % .3f (% .3f)\" %(results.mean(), results.std()))"
      ],
      "execution_count": 3,
      "outputs": [
        {
          "output_type": "stream",
          "text": [
            "Accuracy:  0.770 ( 0.048)\n"
          ],
          "name": "stdout"
        }
      ]
    },
    {
      "cell_type": "markdown",
      "metadata": {
        "id": "iYe-tsZ-inZI"
      },
      "source": [
        "### Logarithmic Loss\n",
        "\n",
        "This evaluate the prediction of probabilities of membership in a given class. Predictions that are correct or incorrect are rewarded or punished proportionally to the confidence of the prediction.\n"
      ]
    },
    {
      "cell_type": "code",
      "metadata": {
        "id": "08EJUA_VihTM",
        "colab": {
          "base_uri": "https://localhost:8080/"
        },
        "outputId": "46fffe2c-d802-46bd-9154-1157e9ce0802"
      },
      "source": [
        "# Cross Validation Classification LogLoss\n",
        "#\n",
        "#\n",
        "scoring = 'neg_log_loss' # Logarithmic Loss string is used in cross-validation for scoring  \n",
        "results = cross_val_score(model, X, Y, cv=kfold, scoring=scoring)\n",
        "print(\"Accuracy: % .3f (% .3f)\" %(results.mean(), results.std()))"
      ],
      "execution_count": 4,
      "outputs": [
        {
          "output_type": "stream",
          "text": [
            "Accuracy: -0.493 ( 0.047)\n"
          ],
          "name": "stdout"
        }
      ]
    },
    {
      "cell_type": "markdown",
      "metadata": {
        "id": "EQI2ru5xinyf"
      },
      "source": [
        "### Area Under ROC curve\n",
        "\n",
        "**AUC** is matric used for binary classification problems, this discriminate between positive & negative classes. ROC is devided into **Sensiitivity** & **Specificity**.\n",
        "Sensitivity is the true postive rate ( Recall): It is the number of instances from the 1st class that we are predicting as correct.\n",
        "Specificity is the true negative rate: It is the instances when 2nd class is predicted correctly."
      ]
    },
    {
      "cell_type": "code",
      "metadata": {
        "id": "VPPVvHwPioLf",
        "colab": {
          "base_uri": "https://localhost:8080/"
        },
        "outputId": "de188606-964a-4e9a-f7da-90f5d8e6ee92"
      },
      "source": [
        "# Cross Validation Classification ROC AUC\n",
        "#\n",
        "#\n",
        "scoring = 'roc_auc' # Area Under ROC curve is used in cross-validation for scoring  \n",
        "results = cross_val_score(model, X, Y, cv=kfold, scoring=scoring)\n",
        "print(\"Accuracy: % .3f (% .3f)\" %(results.mean(), results.std()))"
      ],
      "execution_count": 5,
      "outputs": [
        {
          "output_type": "stream",
          "text": [
            "Accuracy:  0.824 ( 0.041)\n"
          ],
          "name": "stdout"
        }
      ]
    },
    {
      "cell_type": "markdown",
      "metadata": {
        "id": "YltugKtHio6f"
      },
      "source": [
        "### Confusion Matrix\n",
        "\n",
        "This Matrix is a handy presentation of the accuracy of a model with 2 or more classes.The table of the matrix shows prediction on x-axis & true outcomes on y-axis. "
      ]
    },
    {
      "cell_type": "code",
      "metadata": {
        "id": "WnVimGw9ipU_",
        "colab": {
          "base_uri": "https://localhost:8080/"
        },
        "outputId": "835e0e8c-2a7b-4360-ada6-850048d5adac"
      },
      "source": [
        "# Cross Validation Classification confusion Matrix\n",
        "from pandas import read_csv\n",
        "from sklearn.model_selection import train_test_split\n",
        "from sklearn.linear_model import LogisticRegression\n",
        "from sklearn.metrics import confusion_matrix\n",
        "# Load Data\n",
        "filename = \"/content/drive/MyDrive/Colab Notebooks/ML Mastery python/Dataset/pima-indians-diabetes.csv\"\n",
        "names = ['preg', 'plas','pres','skin','test','mass','pedi','age','class']\n",
        "dataframe = read_csv(filename, names=names)\n",
        "array = dataframe.values\n",
        "# separate array into input & output \n",
        "X = array[:,0:8]\n",
        "Y = array[:,8]\n",
        "test_size = 0.33 \n",
        "seed = 7\n",
        "X_train, X_test, Y_train, Y_test = train_test_split(X,Y, test_size=test_size, random_state=seed)\n",
        "model = LogisticRegression(solver= 'liblinear')\n",
        "model.fit(X_train, Y_train)\n",
        "####################################\n",
        "predicted = model.predict(X_test)\n",
        "matrix = confusion_matrix(Y_test, predicted)\n",
        "print(matrix)"
      ],
      "execution_count": 7,
      "outputs": [
        {
          "output_type": "stream",
          "text": [
            "[[141  21]\n",
            " [ 41  51]]\n"
          ],
          "name": "stdout"
        }
      ]
    },
    {
      "cell_type": "markdown",
      "metadata": {
        "id": "x6-qqZ0jqiV2"
      },
      "source": [
        "### Classification Report\n",
        "\n",
        "SKlearn provides us with a report which gives a quick idea of accuracuy of model using a number of measures, this can also be used for multiclass classification.\n"
      ]
    },
    {
      "cell_type": "code",
      "metadata": {
        "id": "5w9jTZZ9qQGh",
        "colab": {
          "base_uri": "https://localhost:8080/"
        },
        "outputId": "c5f198a8-e769-430e-a8a3-10cf68ca942f"
      },
      "source": [
        "# Cross Validation Classification Report\n",
        "from sklearn.metrics import classification_report\n",
        "#\n",
        "#\n",
        "#\n",
        "predicted = model.predict(X_test)\n",
        "report = classification_report(Y_test, predicted)\n",
        "print(report)"
      ],
      "execution_count": 8,
      "outputs": [
        {
          "output_type": "stream",
          "text": [
            "              precision    recall  f1-score   support\n",
            "\n",
            "         0.0       0.77      0.87      0.82       162\n",
            "         1.0       0.71      0.55      0.62        92\n",
            "\n",
            "    accuracy                           0.76       254\n",
            "   macro avg       0.74      0.71      0.72       254\n",
            "weighted avg       0.75      0.76      0.75       254\n",
            "\n"
          ],
          "name": "stdout"
        }
      ]
    },
    {
      "cell_type": "markdown",
      "metadata": {
        "id": "JyNYgnhasE2Y"
      },
      "source": [
        "## **Regression Metrics**"
      ]
    },
    {
      "cell_type": "markdown",
      "metadata": {
        "id": "lE4VeIERsMZW"
      },
      "source": [
        "### Mean Absolute Error \n",
        "\n",
        "MEA is a sum abasolute difference between predictions & actual values. This gives the magnitude of error, but no idea about the direction (wetheer it is less or more the value)\n"
      ]
    },
    {
      "cell_type": "code",
      "metadata": {
        "id": "4Bi7BJkHsnUG",
        "colab": {
          "base_uri": "https://localhost:8080/"
        },
        "outputId": "3aad503c-4ee6-4046-ddbf-6d8e4d6cf285"
      },
      "source": [
        "# Evaluation using a train and a test set\n",
        "from pandas import read_csv\n",
        "from sklearn.model_selection import KFold # This testing is used to demonstrate each metric (You can use other resamling methods)\n",
        "from sklearn.model_selection import cross_val_score\n",
        "from sklearn.linear_model import LinearRegression\n",
        "# Load Data\n",
        "filename = \"/content/drive/MyDrive/Colab Notebooks/ML Mastery python/Dataset/Boston-housing.csv\"\n",
        "#names = ['CRIM','ZN','INDUS','CHAS','NOX','RM','AGE','DIS','RAD','TAX','PTRATIO','B','LSTAT','MEDV']\n",
        "dataframe = read_csv(filename)\n",
        "array = dataframe.values\n",
        "X = array[:,0:13]\n",
        "Y = array[:,13]\n",
        "kfold = KFold(n_splits=10)\n",
        "model = LinearRegression()\n",
        "scoring = 'neg_mean_absolute_error'\n",
        "result = cross_val_score(model, X, Y, cv=kfold, scoring=scoring)\n",
        "print(\"MAE: % .3f (% .3f)\" % (result.mean(), result.std()))\n"
      ],
      "execution_count": 12,
      "outputs": [
        {
          "output_type": "stream",
          "text": [
            "MAE: -3.583 ( 1.406)\n"
          ],
          "name": "stdout"
        }
      ]
    },
    {
      "cell_type": "markdown",
      "metadata": {
        "id": "2vgOSMaHqjK1"
      },
      "source": [
        "### Mean Squared Error\n",
        "\n",
        "MES is much like MAE, this converts the values back to the original unit of the output variable & can be described and presented properly.\n"
      ]
    },
    {
      "cell_type": "code",
      "metadata": {
        "id": "o-e3u6z3spK-",
        "colab": {
          "base_uri": "https://localhost:8080/"
        },
        "outputId": "f506c7ad-07d1-48cb-9a71-54221db49557"
      },
      "source": [
        "# Cross Validation Regression MES \n",
        "#\n",
        "#\n",
        "scoring = 'neg_mean_squared_error'  \n",
        "results = cross_val_score(model, X, Y, cv=kfold, scoring=scoring)\n",
        "print(\"MES: % .3f (% .3f)\" %(results.mean(), results.std()))"
      ],
      "execution_count": 13,
      "outputs": [
        {
          "output_type": "stream",
          "text": [
            "MES: -24.867 ( 18.316)\n"
          ],
          "name": "stdout"
        }
      ]
    },
    {
      "cell_type": "markdown",
      "metadata": {
        "id": "iN7sdTy3spoW"
      },
      "source": [
        "## R Squared\n",
        "\n",
        "R Squared Matric provides an indications of goodness of fit of a set of predictions to the actual values. More the value (0-1) more is the fitting of cure to the model.\n"
      ]
    },
    {
      "cell_type": "code",
      "metadata": {
        "id": "oaqt5OHgsqp_",
        "colab": {
          "base_uri": "https://localhost:8080/"
        },
        "outputId": "fece56ee-c520-4ae5-acac-d346b03589ad"
      },
      "source": [
        "# Cross Validation Regression MES \n",
        "#\n",
        "#\n",
        "scoring = 'r2'  \n",
        "results = cross_val_score(model, X, Y, cv=kfold, scoring=scoring)\n",
        "print(\"R^2: % .3f (% .3f)\" %(results.mean(), results.std()))"
      ],
      "execution_count": 14,
      "outputs": [
        {
          "output_type": "stream",
          "text": [
            "R^2:  0.082 ( 0.415)\n"
          ],
          "name": "stdout"
        }
      ]
    }
  ]
}