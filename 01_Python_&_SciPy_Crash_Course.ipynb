{
  "nbformat": 4,
  "nbformat_minor": 0,
  "metadata": {
    "colab": {
      "name": "01_Python & SciPy Crash Course.ipynb",
      "provenance": [],
      "authorship_tag": "ABX9TyNTrs9i06xlGwtAZeo70+nQ",
      "include_colab_link": true
    },
    "kernelspec": {
      "name": "python3",
      "display_name": "Python 3"
    },
    "language_info": {
      "name": "python"
    }
  },
  "cells": [
    {
      "cell_type": "markdown",
      "metadata": {
        "id": "view-in-github",
        "colab_type": "text"
      },
      "source": [
        "<a href=\"https://colab.research.google.com/github/Bluelord/ML_Mastery_Python/blob/main/01_Python_%26_SciPy_Crash_Course.ipynb\" target=\"_parent\"><img src=\"https://colab.research.google.com/assets/colab-badge.svg\" alt=\"Open In Colab\"/></a>"
      ]
    },
    {
      "cell_type": "markdown",
      "metadata": {
        "id": "c5ZIIESWc08T"
      },
      "source": [
        "\n",
        "\n",
        "# **Python & SciPy Crash Course**\n",
        "---\n"
      ]
    },
    {
      "cell_type": "markdown",
      "metadata": {
        "id": "wCOHELs-W8wN"
      },
      "source": [
        "## Python Crash Course\n"
      ]
    },
    {
      "cell_type": "markdown",
      "metadata": {
        "id": "GPsI19DtYWbr"
      },
      "source": [
        "### Assignment\n"
      ]
    },
    {
      "cell_type": "code",
      "metadata": {
        "id": "_YmdhV3dOjcA",
        "colab": {
          "base_uri": "https://localhost:8080/"
        },
        "outputId": "bd9bddbc-17ae-4435-9e98-411d475d7bba"
      },
      "source": [
        "# Strings\n",
        "Name = 'Bluelord'\n",
        "print(Name[0]) # print zeroth element of a string\n",
        "print (len(Name)) # print length of a string\n",
        "print (Name) # Print the whole name.\n"
      ],
      "execution_count": 5,
      "outputs": [
        {
          "output_type": "stream",
          "text": [
            "B\n",
            "8\n",
            "Bluelord\n"
          ],
          "name": "stdout"
        }
      ]
    },
    {
      "cell_type": "code",
      "metadata": {
        "id": "Xwtl79fVZJQV",
        "colab": {
          "base_uri": "https://localhost:8080/"
        },
        "outputId": "720e2d6d-641e-41d7-bdcd-28030006b74b"
      },
      "source": [
        "# Numbers\n",
        "val = 148.7\n",
        "print(val) "
      ],
      "execution_count": 2,
      "outputs": [
        {
          "output_type": "stream",
          "text": [
            "148.7\n"
          ],
          "name": "stdout"
        }
      ]
    },
    {
      "cell_type": "code",
      "metadata": {
        "id": "1E9YTMxEZjde",
        "colab": {
          "base_uri": "https://localhost:8080/"
        },
        "outputId": "dce20015-30d7-4281-f807-d852395aba97"
      },
      "source": [
        "# Boolean\n",
        "a = True\n",
        "b = False\n",
        "print(a,b)"
      ],
      "execution_count": 3,
      "outputs": [
        {
          "output_type": "stream",
          "text": [
            "True False\n"
          ],
          "name": "stdout"
        }
      ]
    },
    {
      "cell_type": "code",
      "metadata": {
        "id": "dWv0UtkJZytC",
        "colab": {
          "base_uri": "https://localhost:8080/"
        },
        "outputId": "dd0a6cee-31b2-4ed2-e7f7-fd09ef9f5382"
      },
      "source": [
        "# Multiple Assignment \n",
        "a,b,c = 1,4,7 # assigned using \" , \"\n",
        "print(a,b,c)"
      ],
      "execution_count": 4,
      "outputs": [
        {
          "output_type": "stream",
          "text": [
            "1 4 7\n"
          ],
          "name": "stdout"
        }
      ]
    },
    {
      "cell_type": "markdown",
      "metadata": {
        "id": "tXTt7Y-badS6"
      },
      "source": [
        "### Flow Control\n",
        "\n",
        "Flow control of a algorithm has three main types **If-Then-Else** conditions, **For-Loops** and **While-loops**.\n",
        " \n"
      ]
    },
    {
      "cell_type": "code",
      "metadata": {
        "id": "XysEEsRoaBnS",
        "colab": {
          "base_uri": "https://localhost:8080/"
        },
        "outputId": "d7f2921a-17f2-4a7a-931b-ccb5f07d28d5"
      },
      "source": [
        "# If-Then-Else Candition \n",
        "val = 994\n",
        "if val == 994:  # checking the condition\n",
        "  print ('Hi')\n",
        "elif val > 1000:\n",
        "  print ('Hello')\n",
        "else:\n",
        "  print('Nothing')"
      ],
      "execution_count": 6,
      "outputs": [
        {
          "output_type": "stream",
          "text": [
            "Hi\n"
          ],
          "name": "stdout"
        }
      ]
    },
    {
      "cell_type": "code",
      "metadata": {
        "id": "eLxqeQglbN1Y",
        "colab": {
          "base_uri": "https://localhost:8080/"
        },
        "outputId": "18a2622d-bd39-4a4a-a8bd-9ccc9e6c7c0b"
      },
      "source": [
        "# for loop\n",
        "for i in range(10): # runs in the loop  for a given range or till the condition fails\n",
        "  print(i)"
      ],
      "execution_count": 7,
      "outputs": [
        {
          "output_type": "stream",
          "text": [
            "0\n",
            "1\n",
            "2\n",
            "3\n",
            "4\n",
            "5\n",
            "6\n",
            "7\n",
            "8\n",
            "9\n"
          ],
          "name": "stdout"
        }
      ]
    },
    {
      "cell_type": "code",
      "metadata": {
        "id": "jia4WelQbpx-",
        "colab": {
          "base_uri": "https://localhost:8080/"
        },
        "outputId": "bb20fea5-f97d-4693-e68b-4e3b0870673a"
      },
      "source": [
        "# While Loop\n",
        "i = 0\n",
        "while i<10:\n",
        "  print (i)\n",
        "  i += 2"
      ],
      "execution_count": 8,
      "outputs": [
        {
          "output_type": "stream",
          "text": [
            "0\n",
            "2\n",
            "4\n",
            "6\n",
            "8\n"
          ],
          "name": "stdout"
        }
      ]
    },
    {
      "cell_type": "markdown",
      "metadata": {
        "id": "zRfPQiHecZmT"
      },
      "source": [
        "### Data Structure\n",
        "\n",
        "Data structures in Python are tuples, lists and dictionaries."
      ]
    },
    {
      "cell_type": "code",
      "metadata": {
        "id": "ZUn4djbyb3dP",
        "colab": {
          "base_uri": "https://localhost:8080/"
        },
        "outputId": "0aa77fb6-aafb-4efa-91e9-56c2071ced05"
      },
      "source": [
        "# Tuple\n",
        "a = (1, 2, 3)\n",
        "print (a)"
      ],
      "execution_count": 9,
      "outputs": [
        {
          "output_type": "stream",
          "text": [
            "(1, 2, 3)\n"
          ],
          "name": "stdout"
        }
      ]
    },
    {
      "cell_type": "code",
      "metadata": {
        "id": "yOxStFFcdPiH",
        "colab": {
          "base_uri": "https://localhost:8080/"
        },
        "outputId": "9906e744-6253-48fb-f03c-2af5488775dc"
      },
      "source": [
        "#List\n",
        "a = [1,4,5] # listing is done in a squre bracket\n",
        "print(\"Second Value: %d\" % a[2])\n",
        "a.append(7) # add 7 to the next location\n",
        "print(\"List Length: %d\" % len(a))\n",
        "for val in a:\n",
        "  print (val)"
      ],
      "execution_count": 10,
      "outputs": [
        {
          "output_type": "stream",
          "text": [
            "Second Value: 5\n",
            "List Length: 4\n",
            "1\n",
            "4\n",
            "5\n",
            "7\n"
          ],
          "name": "stdout"
        }
      ]
    },
    {
      "cell_type": "code",
      "metadata": {
        "id": "ytl-4yzGfK2w",
        "colab": {
          "base_uri": "https://localhost:8080/"
        },
        "outputId": "c98c70e0-5616-4211-cb19-f2b1b76b3ecd"
      },
      "source": [
        "# Dictionary\n",
        "# Use curly brackets & colons  while defining the dictionary \n",
        "dictionary = {'a':3, 'b':5, 'c':7}\n",
        "print(\"A value: %d\" % dictionary ['a'])\n",
        "dictionary['a'] = 16 \n",
        "print (\"A Value: %d\" % dictionary ['a'])\n",
        "print(\"Keys: %s\" % dictionary.keys()) # print the key words of dict\n",
        "print(\"Values: %s\" % dictionary.values()) # print the valuses of dict\n",
        "for key in dictionary.keys():\n",
        "  print(dictionary[key])"
      ],
      "execution_count": 11,
      "outputs": [
        {
          "output_type": "stream",
          "text": [
            "A value: 3\n",
            "A Value: 16\n",
            "Keys: dict_keys(['a', 'b', 'c'])\n",
            "Values: dict_values([16, 5, 7])\n",
            "16\n",
            "5\n",
            "7\n"
          ],
          "name": "stdout"
        }
      ]
    },
    {
      "cell_type": "code",
      "metadata": {
        "id": "_7oFIhxPfQgD",
        "colab": {
          "base_uri": "https://localhost:8080/"
        },
        "outputId": "c59c206e-17cf-4acc-f057-b985d023cd6c"
      },
      "source": [
        "# Functions\n",
        "def addition (x,y): # defines function with x,y as inputs\n",
        "  a = x+y\n",
        "  return a # output of functon as 'a' \n",
        "\n",
        "# test the function\n",
        "Result = addition(5,7)\n",
        "print (Result)"
      ],
      "execution_count": 12,
      "outputs": [
        {
          "output_type": "stream",
          "text": [
            "12\n"
          ],
          "name": "stdout"
        }
      ]
    },
    {
      "cell_type": "markdown",
      "metadata": {
        "id": "6d53aK6fkFyW"
      },
      "source": [
        "## **NumPy Crash Course**\n",
        "\n"
      ]
    },
    {
      "cell_type": "code",
      "metadata": {
        "id": "wQQTrR5K8tCG",
        "colab": {
          "base_uri": "https://localhost:8080/"
        },
        "outputId": "579d80a8-2fab-403d-b0a6-793bff1c5540"
      },
      "source": [
        "# Define an array\n",
        "import numpy as np\n",
        "List_A = [1,2,2] # Forms a list of elements\n",
        "Array_A = np.array(List_A) # Forms Matrix\n",
        "print(Array_A)\n",
        "print(Array_A.shape)\n"
      ],
      "execution_count": 13,
      "outputs": [
        {
          "output_type": "stream",
          "text": [
            "[1 2 2]\n",
            "(3,)\n"
          ],
          "name": "stdout"
        }
      ]
    },
    {
      "cell_type": "code",
      "metadata": {
        "id": "_6wYvUBlkM8v",
        "colab": {
          "base_uri": "https://localhost:8080/"
        },
        "outputId": "ca79b6e4-a3ea-43aa-bbbe-e699dda13be8"
      },
      "source": [
        "# Access Values\n",
        "import numpy as np\n",
        "List_A = [[1,2,2],[3,4,6]] # Forms a list of elements\n",
        "Array_A = np.array(List_A) # Forms Matrix\n",
        "print(Array_A)\n",
        "print(Array_A.shape)\n",
        "print(\"First row: %s\" % Array_A[0])\n",
        "print(\"Last row: %s\" % Array_A[-1]) # matrix is loop thus last is accessed with -1th row.\n",
        "print(\"Specific row & col: %s\" % Array_A[0,1])\n",
        "print(\"Whole col: %s\" % Array_A[:, 1]) # For col [:, a], for row [a,:]"
      ],
      "execution_count": 14,
      "outputs": [
        {
          "output_type": "stream",
          "text": [
            "[[1 2 2]\n",
            " [3 4 6]]\n",
            "(2, 3)\n",
            "First row: [1 2 2]\n",
            "Last row: [3 4 6]\n",
            "Specific row & col: 2\n",
            "Whole col: [2 4]\n"
          ],
          "name": "stdout"
        }
      ]
    },
    {
      "cell_type": "code",
      "metadata": {
        "id": "PKqPQj_5l5-4",
        "colab": {
          "base_uri": "https://localhost:8080/"
        },
        "outputId": "9e49b994-05a1-4253-fa12-225610194d8f"
      },
      "source": [
        "#Arithmetic\n",
        "import numpy as np\n",
        "Array_A = np.array([2,2,4])\n",
        "Array_B = np.array([2,2,4])\n",
        "print(\"Addition: %s\" % (Array_A + Array_B))\n",
        "print(\"Multiplication: %s\" % (Array_A * Array_B))"
      ],
      "execution_count": 15,
      "outputs": [
        {
          "output_type": "stream",
          "text": [
            "Addition: [4 4 8]\n",
            "Multiplication: [ 4  4 16]\n"
          ],
          "name": "stdout"
        }
      ]
    },
    {
      "cell_type": "markdown",
      "metadata": {
        "id": "Xp74qcJa-ZiU"
      },
      "source": [
        "## **Matplotlib Crash Course**"
      ]
    },
    {
      "cell_type": "code",
      "metadata": {
        "id": "00kEPwMH8gje",
        "colab": {
          "base_uri": "https://localhost:8080/",
          "height": 278
        },
        "outputId": "403c7159-1ebc-4e2f-b6bb-6a8476849fba"
      },
      "source": [
        "# Basic Line Plot \n",
        "import matplotlib.pyplot as plt\n",
        "import numpy as np\n",
        "Array_A = np.array([1,8,4])\n",
        "plt.plot(Array_A)\n",
        "plt.xlabel('X axis')\n",
        "plt.ylabel('Y axis')\n",
        "plt.show()\n"
      ],
      "execution_count": 16,
      "outputs": [
        {
          "output_type": "display_data",
          "data": {
            "image/png": "[encoded data removed]",
            "text/plain": [
              "<Figure size 432x288 with 1 Axes>"
            ]
          },
          "metadata": {
            "tags": [],
            "needs_background": "light"
          }
        }
      ]
    },
    {
      "cell_type": "code",
      "metadata": {
        "id": "Ad550ATx_MKg",
        "colab": {
          "base_uri": "https://localhost:8080/",
          "height": 278
        },
        "outputId": "6381b0bd-64fe-415f-ad72-85fb92ba12f5"
      },
      "source": [
        "# Basic Scatter plot\n",
        "import matplotlib.pyplot as plt\n",
        "import numpy as np\n",
        "X = np.array([1,4,5])\n",
        "Y = np.array([1,5,8])\n",
        "plt.scatter(X,Y)\n",
        "plt.xlabel('X axis')\n",
        "plt.ylabel('Y axis')\n",
        "plt.show()"
      ],
      "execution_count": 17,
      "outputs": [
        {
          "output_type": "display_data",
          "data": {
            "image/png": "[encoded data removed]",
            "text/plain": [
              "<Figure size 432x288 with 1 Axes>"
            ]
          },
          "metadata": {
            "tags": [],
            "needs_background": "light"
          }
        }
      ]
    },
    {
      "cell_type": "markdown",
      "metadata": {
        "id": "coOPJQTMByq9"
      },
      "source": [
        "## **Pandas Crash Course**"
      ]
    },
    {
      "cell_type": "code",
      "metadata": {
        "id": "nJUpv-3eAIHz",
        "colab": {
          "base_uri": "https://localhost:8080/"
        },
        "outputId": "b234cfde-b97f-43e1-a0f9-1dbe60adcc48"
      },
      "source": [
        "# Serise\n",
        "import numpy as np\n",
        "import pandas as pd \n",
        "Array_A = np.array([1,4,5]) # lets form a array\n",
        "Row_names = ['a', 'b', 'c'] # lets give each row a name\n",
        "Series_A = pd.Series(Array_A, index = Row_names) # indexing each row on array\n",
        "print(Series_A)\n",
        "print(Series_A[0])\n",
        "print(Series_A['c'])"
      ],
      "execution_count": 18,
      "outputs": [
        {
          "output_type": "stream",
          "text": [
            "a    1\n",
            "b    4\n",
            "c    5\n",
            "dtype: int64\n",
            "1\n",
            "5\n"
          ],
          "name": "stdout"
        }
      ]
    },
    {
      "cell_type": "code",
      "metadata": {
        "id": "v3or8eyvC5P9",
        "colab": {
          "base_uri": "https://localhost:8080/"
        },
        "outputId": "1980813e-6319-405a-96ee-e8bce45dae64"
      },
      "source": [
        "# DataFrame\n",
        "import numpy as np\n",
        "import pandas as pd\n",
        "Array_A = np.array([[3,5,4],[5,6,4]])\n",
        "Row = ['a','b']\n",
        "Col = ['A','B', 'C']\n",
        "Dataframe_A = pd.DataFrame(Array_A, index= Row, columns=Col)\n",
        "print(Dataframe_A)\n",
        "#Indexing the data\n",
        "# Method 1\n",
        "print(\"\\n Method 1- column B: \\n%s\" % Dataframe_A['B'])\n",
        "# Method 2\n",
        "print(\"\\n Method 2- column B: \\n%s\" % Dataframe_A.B)\n"
      ],
      "execution_count": 19,
      "outputs": [
        {
          "output_type": "stream",
          "text": [
            "   A  B  C\n",
            "a  3  5  4\n",
            "b  5  6  4\n",
            "\n",
            " Method 1- column B: \n",
            "a    5\n",
            "b    6\n",
            "Name: B, dtype: int64\n",
            "\n",
            " Method 2- column B: \n",
            "a    5\n",
            "b    6\n",
            "Name: B, dtype: int64\n"
          ],
          "name": "stdout"
        }
      ]
    }
  ]
}