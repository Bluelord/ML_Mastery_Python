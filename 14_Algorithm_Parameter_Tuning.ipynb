{
  "nbformat": 4,
  "nbformat_minor": 0,
  "metadata": {
    "colab": {
      "name": "14_Algorithm Parameter Tuning.ipynb",
      "provenance": [],
      "collapsed_sections": [],
      "authorship_tag": "ABX9TyP9OE7mADkdjJnSaM04zwA/",
      "include_colab_link": true
    },
    "kernelspec": {
      "name": "python3",
      "display_name": "Python 3"
    },
    "language_info": {
      "name": "python"
    }
  },
  "cells": [
    {
      "cell_type": "markdown",
      "metadata": {
        "id": "view-in-github",
        "colab_type": "text"
      },
      "source": [
        "<a href=\"https://colab.research.google.com/github/Bluelord/ML_Mastery_Python/blob/main/14_Algorithm_Parameter_Tuning.ipynb\" target=\"_parent\"><img src=\"https://colab.research.google.com/assets/colab-badge.svg\" alt=\"Open In Colab\"/></a>"
      ]
    },
    {
      "cell_type": "markdown",
      "metadata": {
        "id": "rgmpGlF0r16a"
      },
      "source": [
        "# Algorithm Tuning"
      ]
    },
    {
      "cell_type": "code",
      "metadata": {
        "id": "UZ29Obz_31pN",
        "colab": {
          "base_uri": "https://localhost:8080/"
        },
        "outputId": "6e0ca00c-5a94-4380-ff69-35d3ca7513f6"
      },
      "source": [
        "from google.colab import drive\n",
        "drive.mount('/content/drive')"
      ],
      "execution_count": 1,
      "outputs": [
        {
          "output_type": "stream",
          "text": [
            "Mounted at /content/drive\n"
          ],
          "name": "stdout"
        }
      ]
    },
    {
      "cell_type": "markdown",
      "metadata": {
        "id": "KskvatMWse-D"
      },
      "source": [
        "Models can have many parameters and finding the best combination of parameters an be treated as a search problem. Algorithm tuning is a final step in the process of applied machine learning before finalizing your model, sometimes called hyperparameter optimization. \n",
        "\n",
        "We can use different search strategies to find a good and robust parameter or set of parameters for an algorithm on a given problem. Python scikit-learn provides two simple methods for algorithm parameter tuning:"
      ]
    },
    {
      "cell_type": "markdown",
      "metadata": {
        "id": "ln9EcF0Zxe7G"
      },
      "source": [
        "## Grid Search Parameter Tuning.\n",
        "\n",
        "Grid search will tune parameter that will methodically build & evaluate model for each combination of algorithm parameters specified in a grid."
      ]
    },
    {
      "cell_type": "code",
      "metadata": {
        "id": "lb5AVVyZsfx6",
        "colab": {
          "base_uri": "https://localhost:8080/"
        },
        "outputId": "ba62bf45-e969-44c6-8cbf-48d10e23f30f"
      },
      "source": [
        "# Grid Search for Algorithm Tuning\n",
        "import numpy\n",
        "from pandas import read_csv\n",
        "from sklearn.linear_model import Ridge\n",
        "from sklearn.model_selection import GridSearchCV\n",
        "filename = \"/content/drive/MyDrive/Colab Notebooks/ML Mastery python/Dataset/pima-indians-diabetes.csv\"\n",
        "names = ['preg', 'plas', 'pres', 'skin', 'test', 'mass', 'pedi', 'age', 'class']\n",
        "dataframe = read_csv(filename, names=names)\n",
        "array = dataframe.values\n",
        "X = array[:,0:8]\n",
        "Y = array[:,8]\n",
        "alphas = numpy.array([1,0.1,0.01,0.001,0.0001,0])\n",
        "param_grid = dict(alpha=alphas)\n",
        "model = Ridge()\n",
        "grid = GridSearchCV(estimator=model, param_grid=param_grid)\n",
        "grid.fit(X, Y)\n",
        "print(grid.best_score_)\n",
        "print(grid.best_estimator_.alpha)"
      ],
      "execution_count": 2,
      "outputs": [
        {
          "output_type": "stream",
          "text": [
            "0.2761084412929244\n",
            "1.0\n"
          ],
          "name": "stdout"
        }
      ]
    },
    {
      "cell_type": "markdown",
      "metadata": {
        "id": "Htqtcc66sgPS"
      },
      "source": [
        "## Random Search Parameter Tuning.\n",
        "\n",
        "Random search is an approach to parameter tuning that will sample algorithm parameters from a random distribution (i.e. uniform) for a \fxed number of iterations. A model is constructed and evaluated for each combination of parameters chosen.\n"
      ]
    },
    {
      "cell_type": "code",
      "metadata": {
        "id": "qkQnGTP5sgxy",
        "colab": {
          "base_uri": "https://localhost:8080/"
        },
        "outputId": "a64acbea-7016-4d1a-ef76-a653b8090ff8"
      },
      "source": [
        "# Randomized for Algorithm Tuning\n",
        "from pandas import read_csv\n",
        "from scipy.stats import uniform\n",
        "from sklearn.linear_model import RidgeClassifier\n",
        "from sklearn.model_selection import RandomizedSearchCV\n",
        "filename = \"/content/drive/MyDrive/Colab Notebooks/ML Mastery python/Dataset/pima-indians-diabetes.csv\"\n",
        "names = ['preg', 'plas', 'pres', 'skin', 'test', 'mass', 'pedi', 'age', 'class']\n",
        "dataframe = read_csv(filename, names=names)\n",
        "array = dataframe.values\n",
        "X = array[:,0:8]\n",
        "Y = array[:,8]\n",
        "param_grid = {'alpha': uniform()}\n",
        "model = RidgeClassifier()\n",
        "rsearch = RandomizedSearchCV(estimator=model, param_distributions=param_grid, n_iter=100,\n",
        "cv=3, random_state=7)\n",
        "rsearch.fit(X, Y)\n",
        "print(rsearch.best_score_)\n",
        "print(rsearch.best_estimator_.alpha)"
      ],
      "execution_count": 3,
      "outputs": [
        {
          "output_type": "stream",
          "text": [
            "0.7708333333333334\n",
            "0.07630828937395717\n"
          ],
          "name": "stdout"
        }
      ]
    }
  ]
}