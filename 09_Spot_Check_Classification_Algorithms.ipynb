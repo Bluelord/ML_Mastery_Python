{
  "nbformat": 4,
  "nbformat_minor": 0,
  "metadata": {
    "colab": {
      "name": "09_Spot-Check Classification Algorithms.ipynb",
      "provenance": [],
      "collapsed_sections": [],
      "authorship_tag": "ABX9TyO0NfPkRQd2Ebqv0afJypni",
      "include_colab_link": true
    },
    "kernelspec": {
      "name": "python3",
      "display_name": "Python 3"
    },
    "language_info": {
      "name": "python"
    }
  },
  "cells": [
    {
      "cell_type": "markdown",
      "metadata": {
        "id": "view-in-github",
        "colab_type": "text"
      },
      "source": [
        "<a href=\"https://colab.research.google.com/github/Bluelord/ML_Mastery_Python/blob/main/09_Spot_Check_Classification_Algorithms.ipynb\" target=\"_parent\"><img src=\"https://colab.research.google.com/assets/colab-badge.svg\" alt=\"Open In Colab\"/></a>"
      ]
    },
    {
      "cell_type": "markdown",
      "metadata": {
        "id": "q_KB2_mrsu2G"
      },
      "source": [
        "# SpotCheck Classification Algorithms\n",
        "\n",
        "---\n",
        "\n",
        "\n"
      ]
    },
    {
      "cell_type": "code",
      "metadata": {
        "colab": {
          "base_uri": "https://localhost:8080/"
        },
        "id": "2Kg7IT_42kjz",
        "outputId": "cc6b7ffb-c50e-47c7-9814-6a11b480d9d8"
      },
      "source": [
        "from google.colab import drive\n",
        "drive.mount('/content/drive')"
      ],
      "execution_count": 1,
      "outputs": [
        {
          "output_type": "stream",
          "text": [
            "Mounted at /content/drive\n"
          ],
          "name": "stdout"
        }
      ]
    },
    {
      "cell_type": "markdown",
      "metadata": {
        "id": "92EtnJz3Pmfn"
      },
      "source": [
        "## Linear ML Algorithms"
      ]
    },
    {
      "cell_type": "markdown",
      "metadata": {
        "id": "6AjKtGl-QHh-"
      },
      "source": [
        "### Logistic Regression\n",
        "\n",
        "Linear Mdels assumes that the featres of our dataset has Gaussian distribution and can be model binary classification problems.\n"
      ]
    },
    {
      "cell_type": "code",
      "metadata": {
        "id": "LPMx_tJytlHF",
        "colab": {
          "base_uri": "https://localhost:8080/"
        },
        "outputId": "0141a25e-1580-49ed-9cc5-ce13bd0e5a4a"
      },
      "source": [
        "# Linear Regession Classification\n",
        "from pandas import read_csv\n",
        "from sklearn.model_selection import KFold \n",
        "from sklearn.model_selection import cross_val_score\n",
        "from sklearn.linear_model import LogisticRegression\n",
        "# Load Data\n",
        "filename = \"/content/drive/MyDrive/Colab Notebooks/ML Mastery python/Dataset/pima-indians-diabetes.csv\"\n",
        "names = ['preg', 'plas','pres','skin','test','mass','pedi','age','class']\n",
        "dataframe = read_csv(filename, names=names)\n",
        "array = dataframe.values\n",
        "# separate array into input & output \n",
        "X = array[:,0:8]\n",
        "Y = array[:,8]\n",
        "kfold = KFold(n_splits=10)\n",
        "model = LogisticRegression(solver='liblinear')\n",
        "results = cross_val_score(model, X, Y, cv=kfold)\n",
        "print(results.mean())"
      ],
      "execution_count": 3,
      "outputs": [
        {
          "output_type": "stream",
          "text": [
            "0.7695146958304853\n"
          ],
          "name": "stdout"
        }
      ]
    },
    {
      "cell_type": "markdown",
      "metadata": {
        "id": "MMjSIAjkQv1f"
      },
      "source": [
        "### Linear Discriminate Analysis**\n",
        "\n",
        "LDA is a statistical technique for binary & malticlass clasification, this model also assumes that our features has a gassuian distribution.\n"
      ]
    },
    {
      "cell_type": "code",
      "metadata": {
        "id": "zFQ6vwNotkDF",
        "colab": {
          "base_uri": "https://localhost:8080/"
        },
        "outputId": "de652b17-899b-441b-8bc2-68daea053ceb"
      },
      "source": [
        "# LDA Classification\n",
        "from sklearn.discriminant_analysis import LinearDiscriminantAnalysis\n",
        "#\n",
        "#\n",
        "model = LinearDiscriminantAnalysis()\n",
        "results = cross_val_score(model, X, Y, cv=kfold)\n",
        "print(results.mean())"
      ],
      "execution_count": 4,
      "outputs": [
        {
          "output_type": "stream",
          "text": [
            "0.773462064251538\n"
          ],
          "name": "stdout"
        }
      ]
    },
    {
      "cell_type": "markdown",
      "metadata": {
        "id": "Cd1Xa80sQxE1"
      },
      "source": [
        "## Nonlinear ML Algorithm"
      ]
    },
    {
      "cell_type": "markdown",
      "metadata": {
        "id": "p8XeQFn8Ygd9"
      },
      "source": [
        "### k-Nearnest Neighbors\n",
        "\n",
        "KNN uses distance metric to find the k most similar instances in the training data for new data & takes mean outcome of the neighbors.\n"
      ]
    },
    {
      "cell_type": "code",
      "metadata": {
        "id": "WchmklQis2jG",
        "colab": {
          "base_uri": "https://localhost:8080/"
        },
        "outputId": "03274cba-a685-4f31-8675-c04b7a66f7f9"
      },
      "source": [
        "# KNN Classification\n",
        "from sklearn.neighbors import KNeighborsClassifier\n",
        "#\n",
        "#\n",
        "model = KNeighborsClassifier()\n",
        "results = cross_val_score(model, X, Y, cv=kfold)\n",
        "print(results.mean())"
      ],
      "execution_count": 5,
      "outputs": [
        {
          "output_type": "stream",
          "text": [
            "0.7265550239234451\n"
          ],
          "name": "stdout"
        }
      ]
    },
    {
      "cell_type": "markdown",
      "metadata": {
        "id": "I5OtBTzcZ3uk"
      },
      "source": [
        "### Naive Bayes\n",
        "\n",
        "This model calculates the probalility of each class and the conditional probabiility of each class for the given input value. When working on real valued data gaussian distribution is assumed and GaussianNB function is used for classification.\n"
      ]
    },
    {
      "cell_type": "code",
      "metadata": {
        "id": "5UFKGsuKs24O",
        "colab": {
          "base_uri": "https://localhost:8080/"
        },
        "outputId": "dd6aa839-d9b2-4cad-fd9b-cfa9ef5a972a"
      },
      "source": [
        "# Gaussian Naive Bayes Classification\n",
        "from sklearn.naive_bayes import GaussianNB\n",
        "#\n",
        "#\n",
        "model = GaussianNB()\n",
        "results = cross_val_score(model, X, Y, cv=kfold)\n",
        "print(results.mean())"
      ],
      "execution_count": 6,
      "outputs": [
        {
          "output_type": "stream",
          "text": [
            "0.7551777170198223\n"
          ],
          "name": "stdout"
        }
      ]
    },
    {
      "cell_type": "markdown",
      "metadata": {
        "id": "N5kgWVRybWmm"
      },
      "source": [
        "## Decision Trees\n",
        "\n",
        "Decision tree, it constructs binary tree from the training data. The spliting point for dividing the tree are chosen greedily by evaluating each freatures and each values of it in the training data fot minimizing the cost function.\n"
      ]
    },
    {
      "cell_type": "code",
      "metadata": {
        "id": "_-sFMp3ptu97",
        "colab": {
          "base_uri": "https://localhost:8080/"
        },
        "outputId": "2d9f5c8e-cebc-4a43-a389-821d39eec669"
      },
      "source": [
        "# CART Classification\n",
        "from sklearn.tree import DecisionTreeClassifier\n",
        "#\n",
        "#\n",
        "model = DecisionTreeClassifier(max_depth=3)\n",
        "results = cross_val_score(model, X, Y, cv=kfold)\n",
        "print(results.mean())"
      ],
      "execution_count": 11,
      "outputs": [
        {
          "output_type": "stream",
          "text": [
            "0.7446514012303486\n"
          ],
          "name": "stdout"
        }
      ]
    },
    {
      "cell_type": "markdown",
      "metadata": {
        "id": "Us9jXFekdhx0"
      },
      "source": [
        "### Support Vector Machine\n",
        "\n",
        "SVM seeks a line that best separates two classes, the data which are close to the line are the best separates the classes. SVM has different ketnals for separating the the classes, **Radial Basis Function** is used by default.\n"
      ]
    },
    {
      "cell_type": "code",
      "metadata": {
        "id": "sUz-HKC9tu6t",
        "colab": {
          "base_uri": "https://localhost:8080/"
        },
        "outputId": "61fc521e-2f7d-4bfc-85fd-955a1a4e45c5"
      },
      "source": [
        "# SVM Classification\n",
        "from sklearn.svm import SVC\n",
        "#\n",
        "#\n",
        "model = SVC(gamma='auto')\n",
        "results = cross_val_score(model, X, Y, cv=kfold)\n",
        "print(results.mean())"
      ],
      "execution_count": 12,
      "outputs": [
        {
          "output_type": "stream",
          "text": [
            "0.6510252904989747\n"
          ],
          "name": "stdout"
        }
      ]
    }
  ]
}