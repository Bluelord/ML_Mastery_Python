{
  "nbformat": 4,
  "nbformat_minor": 0,
  "metadata": {
    "colab": {
      "name": "03_Understand Data With Descriptive Statistics.ipynb",
      "provenance": [],
      "authorship_tag": "ABX9TyPx+Va32k2upszhEvoA5/hH",
      "include_colab_link": true
    },
    "kernelspec": {
      "name": "python3",
      "display_name": "Python 3"
    },
    "language_info": {
      "name": "python"
    }
  },
  "cells": [
    {
      "cell_type": "markdown",
      "metadata": {
        "id": "view-in-github",
        "colab_type": "text"
      },
      "source": [
        "<a href=\"https://colab.research.google.com/github/Bluelord/ML_Mastery_Python/blob/main/03_Understand_Data_With_Descriptive_Statistics.ipynb\" target=\"_parent\"><img src=\"https://colab.research.google.com/assets/colab-badge.svg\" alt=\"Open In Colab\"/></a>"
      ]
    },
    {
      "cell_type": "markdown",
      "metadata": {
        "id": "3WGcJkC0hC8X"
      },
      "source": [
        "# UnderStand Your Data\n",
        "---\n"
      ]
    },
    {
      "cell_type": "code",
      "metadata": {
        "colab": {
          "base_uri": "https://localhost:8080/"
        },
        "id": "gFzXU9vyuJcq",
        "outputId": "9d891861-8701-41a2-c766-1aed7a3b0576"
      },
      "source": [
        "from google.colab import drive\n",
        "drive.mount('/content/drive')"
      ],
      "execution_count": 1,
      "outputs": [
        {
          "output_type": "stream",
          "text": [
            "Mounted at /content/drive\n"
          ],
          "name": "stdout"
        }
      ]
    },
    {
      "cell_type": "markdown",
      "metadata": {
        "id": "SKEqEoDiyUVv"
      },
      "source": [
        "## Peak in and dimension of your data\n",
        "\n",
        "You can Review your using **head()** function on the pandas DataFrame.\n",
        "\n",
        "Dimension of your dataset can be observered by using **shape** function of Pandas DataFrame.\n",
        "\n",
        "Datatype of each features is also and important factor, you can get an idea by listing the datatype of each features with the help of **dtype** property of Pandas DataFrame.\n",
        "\n"
      ]
    },
    {
      "cell_type": "code",
      "metadata": {
        "id": "_yIcnVeVg5GI",
        "colab": {
          "base_uri": "https://localhost:8080/"
        },
        "outputId": "1142af6d-60a2-4f54-bacd-a2638d477135"
      },
      "source": [
        "# peak at your data\n",
        "from pandas import read_csv\n",
        "filename = \"/content/drive/MyDrive/Colab Notebooks/ML Mastery python/Dataset/pima-indians-diabetes.csv\" #  insert any 2D dataset\n",
        "names = ['preg', 'plas','pres','skin','test','mass','pedi','age','class']\n",
        "data = read_csv(filename, names=names)\n",
        "peak = data.head(20) # displays 1st 20 rows\n",
        "print(\"peak at the data: \\n{}\\n\" .format(peak)) \n",
        "shape = data.shape # shows dimention of your data\n",
        "print(\"Dimension of data: {}\\n\" .format(shape))\n",
        "types = data.dtypes\n",
        "print(\"Datatype of each attribute: \\n{}\\n\" .format(types))"
      ],
      "execution_count": 3,
      "outputs": [
        {
          "output_type": "stream",
          "text": [
            "peak at the data: \n",
            "    preg  plas  pres  skin  test  mass   pedi  age  class\n",
            "0      6   148    72    35     0  33.6  0.627   50      1\n",
            "1      1    85    66    29     0  26.6  0.351   31      0\n",
            "2      8   183    64     0     0  23.3  0.672   32      1\n",
            "3      1    89    66    23    94  28.1  0.167   21      0\n",
            "4      0   137    40    35   168  43.1  2.288   33      1\n",
            "5      5   116    74     0     0  25.6  0.201   30      0\n",
            "6      3    78    50    32    88  31.0  0.248   26      1\n",
            "7     10   115     0     0     0  35.3  0.134   29      0\n",
            "8      2   197    70    45   543  30.5  0.158   53      1\n",
            "9      8   125    96     0     0   0.0  0.232   54      1\n",
            "10     4   110    92     0     0  37.6  0.191   30      0\n",
            "11    10   168    74     0     0  38.0  0.537   34      1\n",
            "12    10   139    80     0     0  27.1  1.441   57      0\n",
            "13     1   189    60    23   846  30.1  0.398   59      1\n",
            "14     5   166    72    19   175  25.8  0.587   51      1\n",
            "15     7   100     0     0     0  30.0  0.484   32      1\n",
            "16     0   118    84    47   230  45.8  0.551   31      1\n",
            "17     7   107    74     0     0  29.6  0.254   31      1\n",
            "18     1   103    30    38    83  43.3  0.183   33      0\n",
            "19     1   115    70    30    96  34.6  0.529   32      1\n",
            "\n",
            "Dimension of data: (768, 9)\n",
            "\n",
            "Datatype of each attribute: \n",
            "preg       int64\n",
            "plas       int64\n",
            "pres       int64\n",
            "skin       int64\n",
            "test       int64\n",
            "mass     float64\n",
            "pedi     float64\n",
            "age        int64\n",
            "class      int64\n",
            "dtype: object\n",
            "\n"
          ],
          "name": "stdout"
        }
      ]
    },
    {
      "cell_type": "markdown",
      "metadata": {
        "id": "tKSLfgS2ySom"
      },
      "source": [
        "## Descriptive Statistics\n",
        "\n",
        "Statistical Analysis of your dataset gives you a wide understanding of you data ditribution of each features through its properties.\n",
        " \n",
        "**describe()** function of Pandas DataFrame lists the count, mean, SD, minimum, 25% ,50% median, 75%, max. inshort it gives the box plot of each features.\n",
        "\n",
        "Here the **pandas.set_option()** is use to define the presision and prefered width of the output for readable perposes.\n",
        "\n",
        "It is worth observering your data statistics and reviewing it, this might also include NA values for missing data.\n",
        "\n"
      ]
    },
    {
      "cell_type": "code",
      "metadata": {
        "id": "hC3fm0LlGt4q",
        "colab": {
          "base_uri": "https://localhost:8080/"
        },
        "outputId": "eec95f16-ec68-4ba6-8682-a84a48da8902"
      },
      "source": [
        "# Statistical Summary: This can give you great insight into the properties of each features.\n",
        "from pandas import read_csv\n",
        "from pandas import set_option\n",
        "filename = \"/content/drive/MyDrive/Colab Notebooks/ML Mastery python/Dataset/pima-indians-diabetes.csv\"\n",
        "names = ['preg', 'plas','pres','skin','test','mass','pedi','age','class']\n",
        "data = read_csv(filename, names=names)\n",
        "set_option('display.width', 100) # also be called directly through pandas.set_option()\n",
        "set_option('precision', 3)\n",
        "discription = data.describe()\n",
        "print(discription)"
      ],
      "execution_count": 4,
      "outputs": [
        {
          "output_type": "stream",
          "text": [
            "          preg     plas     pres     skin  ...     mass     pedi      age    class\n",
            "count  768.000  768.000  768.000  768.000  ...  768.000  768.000  768.000  768.000\n",
            "mean     3.845  120.895   69.105   20.536  ...   31.993    0.472   33.241    0.349\n",
            "std      3.370   31.973   19.356   15.952  ...    7.884    0.331   11.760    0.477\n",
            "min      0.000    0.000    0.000    0.000  ...    0.000    0.078   21.000    0.000\n",
            "25%      1.000   99.000   62.000    0.000  ...   27.300    0.244   24.000    0.000\n",
            "50%      3.000  117.000   72.000   23.000  ...   32.000    0.372   29.000    0.000\n",
            "75%      6.000  140.250   80.000   32.000  ...   36.600    0.626   41.000    1.000\n",
            "max     17.000  199.000  122.000   99.000  ...   67.100    2.420   81.000    1.000\n",
            "\n",
            "[8 rows x 9 columns]\n"
          ],
          "name": "stdout"
        }
      ]
    },
    {
      "cell_type": "markdown",
      "metadata": {
        "id": "s3MUj9ziArGt"
      },
      "source": [
        "**Class Distribution** is need to be know when you are preparing a model for Classification problem, how our classes are balanced. Highly unbalanced dataset need to be handled carfully.\n",
        "Mostly classes are grouped by 0,1."
      ]
    },
    {
      "cell_type": "code",
      "metadata": {
        "id": "3s_7FCRv3QoG",
        "colab": {
          "base_uri": "https://localhost:8080/"
        },
        "outputId": "38749243-842e-490e-f0bc-1b0945051e13"
      },
      "source": [
        "# Class Distribution \n",
        "class_count = data.groupby('class').size()\n",
        "print(class_count)"
      ],
      "execution_count": 5,
      "outputs": [
        {
          "output_type": "stream",
          "text": [
            "class\n",
            "0    500\n",
            "1    268\n",
            "dtype: int64\n"
          ],
          "name": "stdout"
        }
      ]
    },
    {
      "cell_type": "markdown",
      "metadata": {
        "id": "V5m2OZMpCW3T"
      },
      "source": [
        "## Correlation between features\n",
        "\n",
        "Correlation gives the relation between two feature (Variables), most commenly pearson's correlation cofficient is used (When normal distribution of feature is involved), different correlation methods can be used for different distribution of variables.\n",
        "\n",
        "Corellation \"-1\" & \"+1\" shows full negative or positive correlation respectively to features. Poor perfomance can be observed for Losgistic and linear regression if there are highly correllated variables. "
      ]
    },
    {
      "cell_type": "code",
      "metadata": {
        "id": "vdXpbFMWCGo1",
        "colab": {
          "base_uri": "https://localhost:8080/"
        },
        "outputId": "bfeee10d-fb28-4e9a-f1a0-04e9ebfbcb68"
      },
      "source": [
        "# pairwis Person correlation\n",
        "correlations = data.corr(method='pearson')\n",
        "print(correlations)"
      ],
      "execution_count": 6,
      "outputs": [
        {
          "output_type": "stream",
          "text": [
            "        preg   plas   pres   skin   test   mass   pedi    age  class\n",
            "preg   1.000  0.129  0.141 -0.082 -0.074  0.018 -0.034  0.544  0.222\n",
            "plas   0.129  1.000  0.153  0.057  0.331  0.221  0.137  0.264  0.467\n",
            "pres   0.141  0.153  1.000  0.207  0.089  0.282  0.041  0.240  0.065\n",
            "skin  -0.082  0.057  0.207  1.000  0.437  0.393  0.184 -0.114  0.075\n",
            "test  -0.074  0.331  0.089  0.437  1.000  0.198  0.185 -0.042  0.131\n",
            "mass   0.018  0.221  0.282  0.393  0.198  1.000  0.141  0.036  0.293\n",
            "pedi  -0.034  0.137  0.041  0.184  0.185  0.141  1.000  0.034  0.174\n",
            "age    0.544  0.264  0.240 -0.114 -0.042  0.036  0.034  1.000  0.238\n",
            "class  0.222  0.467  0.065  0.075  0.131  0.293  0.174  0.238  1.000\n"
          ],
          "name": "stdout"
        }
      ]
    },
    {
      "cell_type": "markdown",
      "metadata": {
        "id": "iYfFptSfI_Zi"
      },
      "source": [
        "**Skew** of a veriable gives the distribution of it, depandending on the skewness we can decede the correlation method to be used between the variables.\n",
        "\n",
        "Normally the skew is assumed to be Gaussian (bell curve), the skew value allow us to decide the what data prepatation is needed to improve the skew value for improving the accuracy of our model.\n",
        "\n",
        "**Skew()** function of Pandas DataFrame is used to caluated the skew of each variable."
      ]
    },
    {
      "cell_type": "code",
      "metadata": {
        "id": "xCXdUC-hIgXV",
        "colab": {
          "base_uri": "https://localhost:8080/"
        },
        "outputId": "1c0f91be-f948-4825-9a6d-680cd35a04e2"
      },
      "source": [
        "skew = data.skew()\n",
        "print(skew)"
      ],
      "execution_count": 7,
      "outputs": [
        {
          "output_type": "stream",
          "text": [
            "preg     0.902\n",
            "plas     0.174\n",
            "pres    -1.844\n",
            "skin     0.109\n",
            "test     2.272\n",
            "mass    -0.429\n",
            "pedi     1.920\n",
            "age      1.130\n",
            "class    0.635\n",
            "dtype: float64\n"
          ],
          "name": "stdout"
        }
      ]
    },
    {
      "cell_type": "markdown",
      "metadata": {
        "id": "rTyEZv2LLYf3"
      },
      "source": [
        "> **Note:** Revies all the values we see in statictics and why, HOw the numbers are related to our problem statement.\n",
        "     Write down whatever comed in your mind thorught observation, next this will be usefull in visualizing and understanding data precisely"
      ]
    }
  ]
}